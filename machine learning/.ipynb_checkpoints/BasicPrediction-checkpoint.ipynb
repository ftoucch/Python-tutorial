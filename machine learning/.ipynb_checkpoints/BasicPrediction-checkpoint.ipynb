{
 "cells": [
  {
   "cell_type": "code",
   "execution_count": 71,
   "id": "7221ccb1-8ef3-437f-9398-2017e8cf6360",
   "metadata": {},
   "outputs": [
    {
     "data": {
      "text/plain": [
       "1.0"
      ]
     },
     "execution_count": 71,
     "metadata": {},
     "output_type": "execute_result"
    }
   ],
   "source": [
    "import pandas as pd\n",
    "from sklearn.tree import DecisionTreeClassifier\n",
    "from sklearn.model_selection import train_test_split\n",
    "from sklearn.metrics import accuracy_score\n",
    "\n",
    "# import Data set\n",
    "music_data = pd.read_csv('music.csv')\n",
    "\n",
    "#create input Data by droping a column\n",
    "X = music_data.drop(columns=['genre'])\n",
    "\n",
    "#create an output set based of the genre\n",
    "y = music_data['genre']\n",
    "\n",
    "#split data set into 80% training and 20% Testing\n",
    "X_train, X_test, y_train, y_test = train_test_split(X,y,test_size=0.2)\n",
    "\n",
    "# instantiate your classify\n",
    "model = DecisionTreeClassifier()\n",
    "\n",
    "#pass the dataset to the model for training\n",
    "model.fit(X_train, y_train)\n",
    "\n",
    "#make basic predictions\n",
    "predictions = model.predict(X_test)\n",
    "\n",
    "#measure your accuracy score based on the test data set\n",
    "score = accuracy_score(y_test, predictions)\n",
    "score"
   ]
  }
 ],
 "metadata": {
  "kernelspec": {
   "display_name": "Python 3 (ipykernel)",
   "language": "python",
   "name": "python3"
  },
  "language_info": {
   "codemirror_mode": {
    "name": "ipython",
    "version": 3
   },
   "file_extension": ".py",
   "mimetype": "text/x-python",
   "name": "python",
   "nbconvert_exporter": "python",
   "pygments_lexer": "ipython3",
   "version": "3.12.4"
  }
 },
 "nbformat": 4,
 "nbformat_minor": 5
}
