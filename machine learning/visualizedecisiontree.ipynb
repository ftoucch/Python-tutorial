{
 "cells": [
  {
   "cell_type": "code",
   "execution_count": 5,
   "id": "730a7385-64fd-4a34-acde-5ee9ab2e063d",
   "metadata": {},
   "outputs": [],
   "source": [
    "import pandas as pd\n",
    "from sklearn.tree import DecisionTreeClassifier\n",
    "from sklearn import tree\n",
    "\n",
    "music_data = pd.read_csv('music.csv')\n",
    "X = music_data.drop(columns=['genre'])\n",
    "y = music_data['genre']\n",
    "\n",
    "model = DecisionTreeClassifier()\n",
    "\n",
    "model.fit(X,y)\n",
    "\n",
    "tree.export_graphviz(\n",
    "    model,\n",
    "    out_file=\"music-recomender.dot\",\n",
    "    feature_names=['age', 'gender'],\n",
    "    class_names = sorted(y.unique()), \n",
    "    label=\"all\", \n",
    "    rounded=True, \n",
    "    filled=True\n",
    ")"
   ]
  },
  {
   "cell_type": "code",
   "execution_count": null,
   "id": "d8ee5f84-0c0d-4c53-a15b-228abebfae0c",
   "metadata": {},
   "outputs": [],
   "source": []
  }
 ],
 "metadata": {
  "kernelspec": {
   "display_name": "Python 3 (ipykernel)",
   "language": "python",
   "name": "python3"
  },
  "language_info": {
   "codemirror_mode": {
    "name": "ipython",
    "version": 3
   },
   "file_extension": ".py",
   "mimetype": "text/x-python",
   "name": "python",
   "nbconvert_exporter": "python",
   "pygments_lexer": "ipython3",
   "version": "3.12.4"
  }
 },
 "nbformat": 4,
 "nbformat_minor": 5
}
